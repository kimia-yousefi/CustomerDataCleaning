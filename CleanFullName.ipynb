{
 "cells": [
  {
   "cell_type": "code",
   "execution_count": null,
   "id": "import",
   "metadata": {},
   "outputs": [],
   "source": [
    "import pandas as pd\n",
    "import pymssql\n",
    "import re\n",
    "import time"
   ]
  },
  {
   "cell_type": "code",
   "execution_count": null,
   "id": "reconnect",
   "metadata": {},
   "outputs": [],
   "source": [
    "def reconnect():\n",
    "    global conn, cursor\n",
    "    try:\n",
    "        cursor.close()\n",
    "        conn.close()\n",
    "    except:\n",
    "        pass\n",
    "    conn = pymssql.connect(\n",
    "        server='***',\n",
    "        port=0000,\n",
    "        user='***',\n",
    "        password='***',\n",
    "        database='***'\n",
    "    )\n",
    "    cursor = conn.cursor()"
   ]
  },
  {
   "cell_type": "code",
   "execution_count": null,
   "id": "connect-call",
   "metadata": {},
   "outputs": [],
   "source": [
    "reconnect()"
   ]
  },
  {
   "cell_type": "code",
   "execution_count": null,
   "id": "read-db",
   "metadata": {},
   "outputs": [],
   "source": [
    "query = \"\"\"\n",
    "SELECT Id, FullName\n",
    "FROM CustomerDB.dbo.CustomerInfo\n",
    "WHERE FullName IS NOT NULL\n",
    "\"\"\"\n",
    "df = pd.read_sql(query, conn)"
   ]
  },
  {
   "cell_type": "code",
   "execution_count": null,
   "id": "invalid-prefixes",
   "metadata": {},
   "outputs": [],
   "source": [
    "invalid_prefixes = ['آقای', 'اقای', 'آقا', 'اقا', 'خانم', 'خانوم', 'سرکار', 'مهندس', 'دکتر']"
   ]
  },
  {
   "cell_type": "code",
   "execution_count": null,
   "id": "clean-function",
   "metadata": {},
   "outputs": [],
   "source": [
    "def clean_fullname(name):\n",
    "    if pd.isnull(name):\n",
    "        return ''\n",
    "\n",
    "    for prefix in invalid_prefixes:\n",
    "        name = re.sub(r'(^|\\s)' + prefix + r'(\\s|$)', ' ', name)\n",
    "\n",
    "    name = re.sub(r'\\d+', '', name)\n",
    "    name = re.sub(r'[^\\w\\s\\u0600-\\u06FF]', '', name)\n",
    "\n",
    "    words = name.split()\n",
    "    # Optional filtering disabled:\n",
    "    # words = [w for w in words if len(w.strip()) >= 2]\n",
    "\n",
    "    name = ' '.join(words)\n",
    "    name = re.sub(r'\\s+', ' ', name).strip()\n",
    "\n",
    "    return name"
   ]
  },
  {
   "cell_type": "code",
   "execution_count": null,
   "id": "clean-apply",
   "metadata": {},
   "outputs": [],
   "source": [
    "df['CleanFullName'] = df['FullName'].apply(clean_fullname)"
   ]
  },
  {
   "cell_type": "code",
   "execution_count": null,
   "id": "print-head",
   "metadata": {},
   "outputs": [],
   "source": [
    "print(df[['FullName', 'CleanFullName']].head(10))"
   ]
  },
  {
   "cell_type": "code",
   "execution_count": null,
   "id": "zip-data",
   "metadata": {},
   "outputs": [],
   "source": [
    "update_data = list(zip(df['CleanFullName'], df['Id']))"
   ]
  },
  {
   "cell_type": "code",
   "execution_count": null,
   "id": "update-db",
   "metadata": {},
   "outputs": [],
   "source": [
    "update_query = \"\"\"\n",
    "UPDATE CustomerDB.dbo.CustomerInfo\n",
    "SET CleanFullName = %s\n",
    "WHERE Id = %s\n",
    "\"\"\"\n",
    "\n",
    "batch_size = 1000\n",
    "for i in range(0, len(update_data), batch_size):\n",
    "    batch = update_data[i:i + batch_size]\n",
    "    try:\n",
    "        cursor.executemany(update_query, batch)\n",
    "        conn.commit()\n",
    "        print(f\"{i + len(batch)} records updated...\")\n",
    "    except Exception as e:\n",
    "        print(f\"Error in batch starting from index {i}: {e}\")\n",
    "        reconnect()\n",
    "        time.sleep(1)\n",
    "\n",
    "print(\"All records updated.\")\n",
    "cursor.close()\n",
    "conn.close()"
   ]
  }
 ],
 "metadata": {
  "language_info": {
   "name": "python"
  }
 },
 "nbformat": 4,
 "nbformat_minor": 5
}

