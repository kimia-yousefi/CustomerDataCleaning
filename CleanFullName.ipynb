{
 "cells": [
  {
   "cell_type": "code",
   "execution_count": null,
   "id": "9e995ef1",
   "metadata": {},
   "outputs": [],
   "source": [
    "import pandas as pd\n",
    "import pymssql\n",
    "import re\n",
    "import time"
   ]
  },
  {
   "cell_type": "code",
   "execution_count": null,
   "id": "f00b177c",
   "metadata": {},
   "outputs": [],
   "source": [
    "#reconnect to database function\n",
    "def reconnect():\n",
    "    global conn, cursor\n",
    "    try:\n",
    "        cursor.close()\n",
    "        conn.close()\n",
    "    except:\n",
    "        pass\n",
    "    conn = pymssql.connect(server='***',\n",
    "                           port=0000,\n",
    "                           user='***',\n",
    "                           password='***',\n",
    "                           database='***')\n",
    "    cursor = conn.cursor()"
   ]
  },
  {
   "cell_type": "code",
   "execution_count": null,
   "id": "10c68451",
   "metadata": {},
   "outputs": [],
   "source": [
    "#reconnect\n",
    "reconnect()"
   ]
  },
  {
   "cell_type": "code",
   "execution_count": null,
   "id": "ff9b3332",
   "metadata": {},
   "outputs": [],
   "source": [
    "#read from table\n",
    "query = \"\"\"\n",
    "SELECT Id, FullName\n",
    "FROM CustomerDB.dbo.CustomerInfo\n",
    "WHERE FullName IS NOT NULL\n",
    "\"\"\"\n",
    "df = pd.read_sql(query, conn)"
   ]
  },
  {
   "cell_type": "code",
   "execution_count": null,
   "id": "98929951",
   "metadata": {},
   "outputs": [],
   "source": [
    "# invalid prefix\n",
    "invalid_prefixes = ['آقای', 'اقای', 'آقا', 'اقا', 'خانم', 'خانوم', 'سرکار', 'مهندس', 'دکتر']"
   ]
  },
  {
   "cell_type": "code",
   "execution_count": null,
   "id": "192e8935",
   "metadata": {},
   "outputs": [],
   "source": [
    "# Cleaning Function 
def clean_fullname(name):
    if pd.isnull(name):
        return ''
    
    # DeletePrefix 
    for prefix in invalid_prefixes:
        name = re.sub(r'(^|\s)' + prefix + r'(\s|$)', ' ', name)

    # DeleteNumbers 
    name = re.sub(r'\d+', '', name)

    #  Delete . - _ ... 
    name = re.sub(r'[^\w\s\u0600-\u06FF]', '', name)

    # Delete words lower than 2 
    #important_chars = ['آ'] #bcs of some names like "پانته آ"
    words = name.split()
    #words = [w for w in words if len(w.strip()) >= 2] #or w.strip() in important_chars

    # Delete spaces
    name = ' '.join(words)
    name = re.sub(r'\s+', ' ', name).strip()

    return name
   ]
  },
  {
   "cell_type": "code",
   "execution_count": null,
   "id": "3383f7f1",
   "metadata": {},
   "outputs": [],
   "source": [
    "# Cleaning\n",
    "df['CleanFullName'] = df['FullName'].apply(clean_fullname)"
   ]
  },
  {
   "cell_type": "code",
   "execution_count": null,
   "id": "292152ee",
   "metadata": {},
   "outputs": [],
   "source": [
    "# show 10\n",
    "print(df[['FullName', 'CleanFullName']].head(10))"
   ]
  },
  {
   "cell_type": "code",
   "execution_count": null,
   "id": "86a3bb3f",
   "metadata": {},
   "outputs": [],
   "source": [
    "# executemany\n",
    "update_data = list(zip(df['CleanFullName'], df['Id']))"
   ]
  },
  {
   "cell_type": "code",
   "execution_count": null,
   "id": "5948fa38",
   "metadata": {},
   "outputs": [],
   "source": [
    "# update in database\n",
    "batch_size = 1000\n",
    "for i in range(0, len(update_data), batch_size):\n",
    "    batch = update_data[i:i + batch_size]\n",
    "    try:\n",
    "        #ifnotchanged\n",
    "        update_query = \"\"\"\n",
    "        UPDATE CustomerDB.dbo.CustomerInfo\n",
    "        SET CleanFullName = %s\n",
    "        WHERE Id = %s AND CleanFullName != %s\n",
    "        \"\"\"\n",
    "        # send to database\n",
    "        cursor.executemany(update_query, [(row[0], row[1], row[0]) for row in batch])\n",
    "        conn.commit()\n",
    "        print(f\"{i + len(batch)} records updated...\")\n",
    "\n",
    "    except Exception as e:\n",
    "        print(f\"error in batch start with{i}: {e}\")\n",
    "        reconnect()\n",
    "        time.sleep(1)\n",
    "\n",
    "# end\n",
    "print(\"All records updated\")\n",
    "cursor.close()\n",
    "conn.close()"
   ]
  }
 ],
 "metadata": {
  "language_info": {
   "name": "python"
  }
 },
 "nbformat": 4,
 "nbformat_minor": 5
}
